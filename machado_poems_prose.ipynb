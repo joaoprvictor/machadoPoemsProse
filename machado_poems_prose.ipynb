{
  "nbformat": 4,
  "nbformat_minor": 0,
  "metadata": {
    "colab": {
      "provenance": []
    },
    "kernelspec": {
      "name": "python3",
      "display_name": "Python 3"
    },
    "language_info": {
      "name": "python"
    }
  },
  "cells": [
    {
      "cell_type": "markdown",
      "metadata": {
        "id": "Lgyh5vuO-eF5"
      },
      "source": [
        "#**Fundamentos de Linguística Computacional**#\n",
        "*Semestre: 2021/1*\n",
        "\n",
        "*Professores: Adriana Pagano, Evandro L. T. P. Cunha, Thiago Castro Ferreira*\n",
        "\n",
        "*Estudante: João Victor Pessoa Rocha*\n",
        "\n",
        "**Prova teórico-prática**\n",
        "\n",
        "Instruções para a realização desta prova:\n",
        "1. copie este notebook Colab para o seu Google Drive e resolva as questões na sua cópia;\n",
        "2. resolva cada questão na célula indicada, sem alterar a ordem das células. Cada questão tem o valor de 5 pontos;\n",
        "3. quando a questão exigir a impressão de resultados, procure ser claro na descrição das saídas. Em outras palavras: em vez de apenas imprimir, digamos, o número \"4\", imprima \"Número de caracteres da palavra 'casa' = 4\". As impressões, seja no Colab, seja em arquivos separados, devem ser claras, autocontidas e autoexplicativas;\n",
        "4. todas as instruções contendo verbos como \"contar\", \"calcular\" etc. pressupõem que as tarefas serão realizadas por meio de código, não manualmente;\n",
        "5. quando a questão informar que se exige uma análise qualitativa (única situação em que não se pressupõe a elaboração de códigos), use o comentário do Python (#) para respondê-la;\n",
        "6. envie o link do seu notebook Colab por mensagem privada no Teams a um dos professores. Não se esqueça de liberar o seu Colab para que possa ser acessado por qualquer pessoa que possua o link.\n",
        "\n",
        "*Valor da prova: 30 pontos  \n",
        "Data-limite para entrega: 14/07/2021, às 13h59*"
      ]
    },
    {
      "cell_type": "markdown",
      "metadata": {
        "id": "Bf6LVqLQqLWS"
      },
      "source": [
        "*As questões a seguir se basearão em um par de textos/corpora à sua escolha. Primeiro, crie uma pasta com seu nome no diretório:\n",
        "https://drive.google.com/drive/folders/1l6rqBgnnj3puZ9zHQEjg6RH9M6UuElS3?usp=sharing  \n",
        "Insira os dois textos/corpora lá, para que possamos rodar seu códigos usando o mesmo material que você usou.*\n",
        "\n",
        "\n",
        "\n",
        "**Textos coletados: textos de romance e poesia escritos por Machado de Assis**\n",
        "\n",
        "[Fonte dos textos aqui](http://machado.mec.gov.br/index.php?option=com_k2&view=itemlist&layout=category&task=category&id=20&order=year&searchword=&Itemid=668)"
      ]
    },
    {
      "cell_type": "code",
      "metadata": {
        "colab": {
          "base_uri": "https://localhost:8080/"
        },
        "id": "pXrp3O8ibZRs",
        "outputId": "605a2937-4b13-4a6e-a4e4-ab4d0b13ba8f"
      },
      "source": [
        "from google.colab import drive\n",
        "drive.mount('/content/drive')"
      ],
      "execution_count": null,
      "outputs": [
        {
          "output_type": "stream",
          "text": [
            "Mounted at /content/drive\n"
          ],
          "name": "stdout"
        }
      ]
    },
    {
      "cell_type": "code",
      "metadata": {
        "id": "ZP1hOom6-Zo9"
      },
      "source": [
        "# Cabeçalho para inicialização. Execute este cabeçalho, como de costume, para a resolução das questões.\n",
        "\n",
        "import nltk\n",
        "nltk.download('all')\n",
        "from nltk.book import *"
      ],
      "execution_count": null,
      "outputs": []
    },
    {
      "cell_type": "markdown",
      "metadata": {
        "id": "IyiTT0o6ECM6"
      },
      "source": [
        "**Questão 1** \n",
        "(a) Importe seus dois textos/corpora para o diretório '/content/prova-flc' usando o \"PlaintextCorpusReader\".  \n",
        "(b) Calcule o número de types e de tokens em cada um dos seus textos/corpora.  \n",
        "(c) Crie uma função em Python que calcula o índice de riqueza/diversidade lexical (razão type-token); rode essa função para cada um dos seus textos/corpora.  \n",
        "(d) Imprima as saídas dos itens (b) e (c) no arquivo '/content/questao1.txt'.  \n",
        "(e) Você observou grande diferença entre os índices de riqueza lexical encontrados? Na sua opinião, por quê? _[análise qualitativa]_"
      ]
    },
    {
      "cell_type": "code",
      "metadata": {
        "id": "67UnmpXKULD5"
      },
      "source": [
        "#importando o leitor de arquivos txt\n",
        "from nltk.corpus import PlaintextCorpusReader\n",
        "\n",
        "#resgatando os diretorios e lendo os arquivos\n",
        "diretorio1 = '/content/drive/MyDrive/LETRAS/2021.1 ERE/Linguística Computacional/Machado/Machado de Assis_poesia'\n",
        "diretorio2 = '/content/drive/MyDrive/LETRAS/2021.1 ERE/Linguística Computacional/Machado/Machado de Assis_romance'\n",
        "machado_poesia = PlaintextCorpusReader(diretorio1, '.*')\n",
        "machado_romance = PlaintextCorpusReader(diretorio2, '.*')\n",
        "\n",
        "#checando a leitura dos arquivos\n",
        "machado_poesia.fileids()\n",
        "machado_romance.fileids()"
      ],
      "execution_count": null,
      "outputs": []
    },
    {
      "cell_type": "code",
      "metadata": {
        "id": "aRAFPAwHA8ZB"
      },
      "source": [
        "#número de tokens de cada corpus\n",
        "poesia_tokens = 'Número de tokens no corpus Machado-Poesia:' + str(len(machado_poesia.raw()))\n",
        "romance_tokens = 'Número de tokens no corpus Machado-Romance:' + str(len(machado_romance.raw()))\n",
        "\n",
        "#número de types de cada corpus\n",
        "poesia_types = 'Número de types no corpus Machado-Poesia:' + str(len(set(machado_poesia.words())))\n",
        "romance_types = 'Número de types no corpus Machado-Romance:' + str(len(set(machado_romance.words())))\n",
        "\n",
        "#razão type/token de cada corpus\n",
        "def lexical_diversity(my_text_data):\n",
        "  word_count = len(my_text_data)\n",
        "  vocab_size = len(set(my_text_data))\n",
        "  diversity_score = vocab_size / word_count\n",
        "  return diversity_score\n",
        "\n",
        "razao_poesia = 'Razão type-token no corpus Machado-Poesia é:' + str(lexical_diversity(machado_poesia.raw()))\n",
        "razao_romance = 'Razão type-token no corpus Machado-Romance é:' + str(lexical_diversity(machado_romance.raw()))\n",
        "\n",
        "\n",
        "#exportando para txt\n",
        "questao1 = [poesia_tokens, poesia_types, razao_poesia, romance_tokens, romance_types, razao_romance]\n",
        "with open('/content/questao1.txt', 'w') as saida: # O 'w' significa que queremos 'write' (escrever) no arquivo, não 'r' ('read', ler).\n",
        "  for file in questao1:\n",
        "    saida.write(file)\n",
        "    saida.write('\\n\\n')\n",
        "\n",
        "#Sobre a riqueza lexical dos mini-corpora, é possível afirmar que:\n",
        "#A riqueza lexical do mini corpus Machado-Poesia foi maior em comparação com o mini-corpus Machado-Romance.\n",
        "#Uma possibilidade para tal fato seja que já que os poemas são tradicionalmente textos mais curtos, há pouca repetição de palavras.\n",
        "#Além disso, muitos autores não usam elementos coesivos (que geralmente são os mais repetidos) em poesia, enquanto em um romance, esse elementos são importantes\n",
        "#para a compreensão da cena."
      ],
      "execution_count": null,
      "outputs": []
    },
    {
      "cell_type": "markdown",
      "metadata": {
        "id": "seyuTlTgBxxH"
      },
      "source": []
    },
    {
      "cell_type": "markdown",
      "metadata": {
        "id": "SKjIsEj4E-DE"
      },
      "source": [
        "**Questão 2**  \n",
        "(a) Imprima os 50 types mais frequentes em cada um dos seus textos/corpora.  \n",
        "(b) Elabore um programa que retorne, dentre os 50 types mais frequentes de cada texto/corpus: (i) uma lista dos types comuns a ambos (ou seja, dos que estão entre os 50 mais frequentes em ambos); (ii) uma lista dos types exclusivos do texto/corpus 1; (iii) uma lista dos types exclusivos do texto/corpus 2.  \n",
        "(c) Imprima as saídas dos itens (a) e (b) no arquivo '/content/questao2.txt'.  \n",
        "(d) O que se pode observar a partir dos resultados obtidos no item (b)? Quais tipos de types são frequentes em ambos os textos/corpora e quais são exclusivos de cada um? O que se pode concluir disso? _[análise qualitativa]_"
      ]
    },
    {
      "cell_type": "code",
      "metadata": {
        "id": "5jd6Vk90DKwL",
        "colab": {
          "base_uri": "https://localhost:8080/"
        },
        "outputId": "dee78619-7fd2-4877-c841-ee2af7b1dbc6"
      },
      "source": [
        "#types mais frequentes em cada corpus\n",
        "poesia_dist = FreqDist(machado_poesia.raw())\n",
        "poesia_dist50 = '50 types mais frequentes em Machado-Poesia:' + str(poesia_dist.most_common(50))\n",
        "\n",
        "romance_dist = FreqDist(machado_romance.raw())\n",
        "romance_dist50 = '50 types mais frequentes em Machado-Romance:' + str(romance_dist.most_common(50))\n",
        "\n",
        "romance50 = romance_dist.most_common(50)\n",
        "poesia50 = poesia_dist.most_common(50)\n",
        "\n",
        "poesia_words = sorted(set(machado_poesia.words()))\n",
        "# print(poesia_words)\n",
        "\n",
        "\n",
        "typesComum = []\n",
        "for word in poesia_words:\n",
        "  if word in romance50:\n",
        "    typesComum.append(word)\n",
        "\n",
        "print(typesComum)\n",
        "types_comum = 'Os types em comum entre os 2 mini corpora são:' + str(typesComum)\n",
        "\n",
        "# exportando em txt\n",
        "questao2 = [poesia_dist50, romance_dist50, types_comum]\n",
        "with open('/content/questao2.txt', 'w') as output2: # O 'w' significa que queremos 'write' (escrever) no arquivo, não 'r' ('read', ler).\n",
        "  for file in questao2:\n",
        "    output2.write(file)\n",
        "    output2.write('\\n\\n')"
      ],
      "execution_count": null,
      "outputs": [
        {
          "output_type": "stream",
          "text": [
            "[]\n"
          ],
          "name": "stdout"
        }
      ]
    },
    {
      "cell_type": "markdown",
      "metadata": {
        "id": "5qbVHNYDOClP"
      },
      "source": [
        "**Questão 3**  \n",
        "(a) Usando a função FreqDist do NLTK, obtenha as frequências absolutas de três palavras à sua escolha em cada texto/corpus.  \n",
        "(b) Calcule a frequência relativa das mesmas três palavras nos dois textos/corpora.  \n",
        "(c) Qual das duas medidas (frequência absoluta ou frequência relativa) é, geralmente, mais útil? Por quê? _[análise qualitativa]_"
      ]
    },
    {
      "cell_type": "code",
      "metadata": {
        "id": "DkhaSYSPRgFn",
        "colab": {
          "base_uri": "https://localhost:8080/"
        },
        "outputId": "50e3ba80-80cb-459d-84df-b2b704a15104"
      },
      "source": [
        "#FreqDist bruta em Poesia\n",
        "words_a = ['amor', 'cantar', 'você']\n",
        "for x in words_a:\n",
        "  poesia_dist[x]\n",
        "  print('A frequência bruta de', x.upper(), 'em Machado-Poesia é:', poesia_dist[x])\n",
        "\n",
        "#FreqDist relativa em Poesia\n",
        "for x in words_a:\n",
        "  relativa_a = poesia_dist[x] / len(machado_poesia.words())\n",
        "  print('A frequência relativa de', x.upper(), 'em Machado-Poesia é:', relativa_a)\n",
        "\n",
        "#FreqDist bruta em Romance\n",
        "for x in words_a:\n",
        "  romance_dist[x]\n",
        "  print('A frequência bruta de', x.upper(), 'em Machado-Romance é:', romance_dist[x])\n",
        "\n",
        "#FreqDist relativa em Poesia\n",
        "for x in words_a:\n",
        "  relativa_b = romance_dist[x] / len(machado_romance.words())\n",
        "  print('A frequência relativa de', x.upper(), 'em Machado-Romance é:', relativa_b)\n",
        "\n",
        "#Cada uma dessas medidas tem uma função. No entanto, a frequência relativa é geralmente mais útil,\n",
        "#porque ela nos mostra o \"peso\" da palabra ou n-grama pesquisado no corpus inteiro. Por exemplo, uma palavra com \n",
        "#2 mil de ocorrências em um corpus de um 1 milhão de palavras terá um \"peso\" *menor* do que uma palavra com \n",
        "#900 ocorrências em um corpus de 3000 mil palavras.\n"
      ],
      "execution_count": null,
      "outputs": [
        {
          "output_type": "stream",
          "text": [
            "A frequência bruta de AMOR em Machado-Poesia é: 0\n",
            "A frequência bruta de CANTAR em Machado-Poesia é: 0\n",
            "A frequência bruta de VOCÊ em Machado-Poesia é: 0\n",
            "A frequência relativa de AMOR em Machado-Poesia é: 0.0\n",
            "A frequência relativa de CANTAR em Machado-Poesia é: 0.0\n",
            "A frequência relativa de VOCÊ em Machado-Poesia é: 0.0\n",
            "A frequência bruta de AMOR em Machado-Romance é: 0\n",
            "A frequência bruta de CANTAR em Machado-Romance é: 0\n",
            "A frequência bruta de VOCÊ em Machado-Romance é: 0\n",
            "A frequência relativa de AMOR em Machado-Romance é: 0.0\n",
            "A frequência relativa de CANTAR em Machado-Romance é: 0.0\n",
            "A frequência relativa de VOCÊ em Machado-Romance é: 0.0\n"
          ],
          "name": "stdout"
        }
      ]
    },
    {
      "cell_type": "markdown",
      "metadata": {
        "id": "Hbx5RcRXf1CS"
      },
      "source": [
        "**Questão 4**  \n",
        "(a) Use o NLTK para obter possíveis colocações em cada um dos seus textos/corpora.  \n",
        "(b) Analise as saídas do item (a). O que elas dizem sobre seus textos/corpora? _[análise qualitativa]_  \n",
        "(c) Escolha uma palavra e use a função do NLTK para imprimir algumas linhas de concordância referentes a essa palavra em cada um dos textos/corpora.  \n",
        "(d) É possível dizer sobre algo sobre o uso dessa palavra nos seus textos/corpora a partir da análise dessas linhas de concordância? _[análise qualitativa]_"
      ]
    },
    {
      "cell_type": "code",
      "metadata": {
        "id": "Emo2Y5XX2S8T",
        "colab": {
          "base_uri": "https://localhost:8080/"
        },
        "outputId": "1f3d5242-635d-4127-cdf4-6498f90bca10"
      },
      "source": [
        "#collocations em Machado-Poesia\n",
        "nltk.Text(machado_poesia.words()).collocations()\n",
        "\n",
        "#collocations em Machado-Romance\n",
        "nltk.Text(machado_romance.words()).collocations()\n",
        "#Percebe-se que em ambos os mini-corpora os nomes do personagens fazem a maior \n",
        "#parte das collocations, o que é plausível, visto que os dois mini-corpora são \n",
        "#compostos de textos literários do 'Realismo'"
      ],
      "execution_count": null,
      "outputs": [
        {
          "output_type": "stream",
          "text": [
            "moi Dans; Marmota Fluminense; Pálida Maria; encontrado apenas; Foi\n",
            "encontrado; ........................................\n",
            "........................................; Correio Mercantil; teus\n",
            "olhos; teu nome; MIRTO CLEON; Não sei; grande Almada; Isto dizendo;\n",
            "meus olhos; minha mãe; Vossa Senhoria; Pálida Itália; estes versos;\n",
            "CLEON LÍSIAS; aos pés\n",
            "alguma coisa; Luís Garcia; Quincas Borba; José Dias; Luís Alves; que\n",
            "não; alguns instantes; Carlos Maria; Procópio Dias; Maria Benedita;\n",
            "que lhe; dia seguinte; que ele; uma vez; outra coisa; minha mãe; disse\n",
            "ele; pode ser; não sei; podia ser\n"
          ],
          "name": "stdout"
        }
      ]
    },
    {
      "cell_type": "code",
      "metadata": {
        "id": "MJnFkKWjbKdD",
        "colab": {
          "base_uri": "https://localhost:8080/"
        },
        "outputId": "802cbdd2-dbf7-4284-fa6a-0bb4b8aa9d7d"
      },
      "source": [
        "#linhas de concordância para 'memoria' em Machado-Poesia\n",
        "nltk.Text(machado_poesia.words()).concordance('memória')\n",
        "\n",
        "\n",
        "#linhas de concordância para 'memoria' em Machado-Romance\n",
        "nltk.Text(machado_romance.words()).concordance('memória')\n",
        "\n",
        "\n",
        "#'MEMÓRIA' nos dois mini corpora parece relaciona-se com vários significados:\n",
        "#(1) espaço mental para arquivar eventos; (2) representação mental de um evento;\n",
        "#(3) significados metafóricos [como em bebo à memória de Samos] "
      ],
      "execution_count": null,
      "outputs": [
        {
          "output_type": "stream",
          "text": [
            "Displaying 25 of 29 matches:\n",
            "ículo , sim ; um tal castigo Que na memória fique da cidade , Que as mães conte\n",
            " mais que cem espadas . Com eles na memória , amada minha , Nada temo na terra \n",
            " ária que a Lagrange Nos desvãos da memória te há deixado , Que era fácil então\n",
            "arregala , Pela sala passeia , e de memória Algum trecho repete , alguma frase \n",
            " , sepultadas No vasto cemitério da memória ... A filha do diabo então sacode I\n",
            "r às regiões celestes , Mal deixada memória aos homens lembra . Isso apenas ; n\n",
            "r dos séculos Será , primeiro que a memória do homem Teça a mortalha fria Da re\n",
            "o apaga . Vivos transmite a popular memória O gênio criador e a sã virtude , Os\n",
            "pátria levantou ; ali revive Toda a memória do valente povo Dos seus Timbiras .\n",
            "ornava De cujo extinto aroma inda a memória Vive na tarde pálida do outono . Oh\n",
            "TO A FRANCISCO PINHEIRO GUIMARÃES À MEMÓRIA DO ATOR TASSO NO ÁLBUM DO SR . QUIN\n",
            "r . UM ANJO [ 4 ] RJ , out . 1855 À MEMÓRIA DE MINHA IRMÃ Se deixou da vida o p\n",
            "tar grilhão servil ; Pareça a nossa memória Salva a honra do Brasil . Brasileir\n",
            "írito , Colhe os lauréis da paz . À MEMÓRIA DO ATOR TASSO [ 25 ] Vós que esta s\n",
            " Um entrar de contínuo as portas da memória Escancaradamente abertas , “ Enchia\n",
            " , e a poliram , Transmitem - lhe a memória aos séculos futuros . “ Hoje a terr\n",
            " e a quantos lhe consomem A sagrada memória , — houve um dia em que um homem “ \n",
            " epopéia , monumento excelso Que em memória do Vate à pátria ergueste , Ardente\n",
            "rer nesta idade ! LÁGRIMAS [ 58 ] À memória de minha mãe Há uma dor que não se \n",
            "ria No sólio imperial , E a fúlgida memória Da honra nacional . EM HOMENAGEM A \n",
            "ia essa glória , Que em minha vivaz memória Jamais a prima envelhece , E sempre\n",
            " esse ditoso ensejo Inda conservo a memória De como lhe eu dei um beijo . Sós ,\n",
            "lor , com que espinho , a importuna memória Do teu passado escreve a misteriosa\n",
            "ores murmura . Noite que assombra a memória , Noite que os medos convida Erma ,\n",
            "os ! Aos prazeres ! CLEON Eu bebo à memória de Samos . Samos vai terminar os se\n",
            "Displaying 25 of 129 matches:\n",
            "ue nada perdia do devido respeito à memória do marido consentindo que alguém fo\n",
            "viúva , da veneração em que tinha a memória dele , das relíquias que guardava ,\n",
            " lágrimas acudiram - me em tropel à memória , e davam - me força para tenta dom\n",
            "andar , andar muito , revolvendo na memória as duras palavras que lhe disse . S\n",
            " natureza . Continuei a aborrecer a memória do homem , causa de tal situação e \n",
            " na fé do amor conjugal ; adorava a memória do marido , como se pode fazer a um\n",
            "ção pode exprimir , relativamente à memória de sua mãe , uma censura ou uma afr\n",
            " espinho que a fez molesta , e , de memória , conservo alguma recordação doce e\n",
            "amento em Capitu , e escutá - la de memória , e estremecer quando lhe ouvia os \n",
            "u só conhecidas . Lá avivar - lhe a memória , não , que eu não trabalho para a \n",
            "ue conferia , rotulava e pregava na memória a minha exposição . Esta imagem é p\n",
            "de arte , e havendo feito aquilo de memória em poucos minutos , achei que era o\n",
            "pressão de que achavam eco em minha memória . Concordou que fossem belas , mas \n",
            "ações e repetições miúdas , e tinha memória para guardá - las todas , até as pa\n",
            "bora . CAPÍTULO LIX CONVIVAS DE BOA MEMÓRIA Há dessas reminiscências que não de\n",
            "ia arrenegar de conviva que tem boa memória . A vida é cheia de tais convivas ,\n",
            " deles , conquanto a prova de ter a memória fraca seja exatamente não me acudir\n",
            "igo , e basta . Não , não , a minha memória não é boa . Ao contrário , é compar\n",
            "a aqui não é das orelhas , senão da memória , chegaremos à exata verdade . A mi\n",
            "hegaremos à exata verdade . A minha memória ouve ainda agora as pancadas do cor\n",
            "de Luciano , nem outros , filhos da memória ou da digestão ; basta - me um sono\n",
            " pena e vamos à janela espairecer a memória . Realmente , o quadro era feio , j\n",
            "ntre as grades da cancela . Ouvi de memória as palavras do pai de Manduca pedin\n",
            "transpô - la , assim como ouvira da memória a palavra do pai do morto , ouvi ag\n",
            "azer ( bastou - me repetir - lho de memória ), e eu guardei o papelzinho ; fui \n"
          ],
          "name": "stdout"
        }
      ]
    },
    {
      "cell_type": "markdown",
      "metadata": {
        "id": "3qkj687Ia0he"
      },
      "source": [
        "**Questão 5**  \n",
        "(a) Promova uma limpeza nos seus textos/corpora: gere listas mantendo apenas as palavras que contenham exclusivamente caracteres alfabéticos (isto é: números, sinais de pontuação etc. não devem ser considerados) e padronizando a capitalização (isto é, transformando todos os caracteres maiúsculos em minúsculos). Conte o número de types e de tokens após a limpeza.  \n",
        "(b) Compare os números de types e de tokens nos seus textos/corpora antes e após a limpeza realizada em (a). O que explica a diferença nesses valores? _[análise qualitativa]_  \n",
        "(c) Por que pode (ou não) ser útil realizar uma limpeza desse tipo? Cite uma ocasião em que essa limpeza é útil e outra ocasião em que ela é prejudicial para a análise linguística a ser executada. _[análise qualitativa]_"
      ]
    },
    {
      "cell_type": "code",
      "metadata": {
        "id": "KJEuY-jAtI-Q",
        "colab": {
          "base_uri": "https://localhost:8080/"
        },
        "outputId": "44132438-895f-4ead-8ca9-8dd843fa8330"
      },
      "source": [
        "#importando o string\n",
        "import string\n",
        "punc = string.punctuation\n",
        "print(punc)\n",
        "\n",
        "#colocando as palavras\n",
        "poesia_words = machado_poesia.words()\n",
        "romance_words = machado_romance.words()\n",
        "\n",
        "#limpando o corpus - Machado-Poesia\n",
        "poesia_limpo = []\n",
        "punc = string.punctuation\n",
        "\n",
        "for i in poesia_words:\n",
        "    if i in punc:\n",
        "        i = i.replace(i, \"\")\n",
        "        poesia_limpo.append(i)\n",
        "    elif i.isdigit():\n",
        "        i = i.replace(i, \"\")\n",
        "        poesia_limpo.append(i)\n",
        "    else:\n",
        "        i = i.lower()\n",
        "        poesia_limpo.append(i)\n",
        "\n",
        "print(poesia_limpo[:10])\n",
        "\n",
        "#limpando o corpus - Machado-Romance\n",
        "romance_limpo = []\n",
        "punc = string.punctuation\n",
        "\n",
        "for i in romance_words:\n",
        "    if i in punc:\n",
        "        i = i.replace(i, \"\")\n",
        "        romance_limpo.append(i)\n",
        "    elif i.isdigit():\n",
        "        i = i.replace(i, \"\")\n",
        "        romance_limpo.append(i)\n",
        "    else:\n",
        "        i = i.lower()\n",
        "        romance_limpo.append(i)\n",
        "\n",
        "print(romance_limpo[:10])\n",
        "\n",
        "\n",
        "#Contando os tokens\n",
        "diff_poesia = len(machado_poesia.raw()) - len(poesia_limpo)\n",
        "diff_romance = len(machado_romance.raw()) - len(romance_limpo)\n",
        "\n",
        "print('A diferença entre os mini corpora Machado-Poesia raw e limpo é igual a ', len(machado_poesia.raw()), '-', len(poesia_limpo), '=', diff_poesia)\n",
        "print('A diferença entre os mini corpora Machado-Romance raw e limpo é igual a ', len(machado_romance.raw()), '-', len(romance_limpo), '=', diff_romance)\n",
        "\n",
        "# A diferença se dá pelo apagamento dos números e sinais de pontuação. \n",
        "# Por se tratar de textso literários, os autores precisam utilizar sinais de \n",
        "# para sinalizar como a leitura deve ser feita. Além disso, tratando-se de\n",
        "# Machado de Assis, os sinais de pontuação aleatórios são bem comuns na sua escrita.\n",
        "# Por fim, nesses textos também têm datas, e pontuações que não fazem parte exclusivamente do \n",
        "# texto literário, na verdade, são elementos paratextuais (dados da publicação e editora, etc)\n",
        "# Portanto, ao \"deletar\" esses sinais do texto, o número de tokens e types mudam drasticamente,\n",
        "# deixando o texto apenas com informações linguístico-textuais."
      ],
      "execution_count": null,
      "outputs": [
        {
          "output_type": "stream",
          "text": [
            "!\"#$%&'()*+,-./:;<=>?@[\\]^_`{|}~\n",
            "['o', 'almada', 'texto', '', 'fonte', '', 'poesias', 'completas', '', 'machado']\n",
            "['casa', 'velha', 'texto', '', 'fonte', '', 'obra', 'completa', '', 'machado']\n",
            "A diferença entre os mini corpora Machado-Poesia raw e limpo é igual a  658305 - 144581 = 513724\n",
            "A diferença entre os mini corpora Machado-Romance raw e limpo é igual a  3165094 - 662212 = 2502882\n"
          ],
          "name": "stdout"
        }
      ]
    },
    {
      "cell_type": "markdown",
      "metadata": {
        "id": "9SASyJgquTYH"
      },
      "source": [
        "**Questão 6**  \n",
        "(a) Imprima, em ordem alfabética e no arquivo '/content/questao5.txt', todas as palavras com uma determinada característica, à sua escolha, em cada um dos textos/corpora, após a limpeza promovida na questão anterior. Essa característica deve ser uma determinada terminação (um possível sufixo) ou um início de palavra específico (um possível prefixo).  \n",
        "(b) Analise as listas de palavras obtidas. Até que ponto é possível usar esse método para a identificação de prefixos/sufixos em um texto/corpus? Quais são as vantagens e as limitações dessa abordagem? _[análise qualitativa]_"
      ]
    },
    {
      "cell_type": "code",
      "metadata": {
        "id": "HFFTOP7Y18gB"
      },
      "source": [
        "def imprimirSufixo(texto, terminacao):\n",
        "  palavras = []\n",
        "  for palavra in texto:\n",
        "    if palavra[-4:] == terminacao:\n",
        "      palavras.append(palavra)\n",
        "  return palavras\n",
        "\n",
        "imprimirSufixo(romance_limpo, 'ismo')\n",
        "imprimirSufixo(poesia_limpo, 'ismo')\n",
        "\n",
        "\n",
        "ismo_romance = 'As palavras terminadas em -ismo em Romance_limpo são: ' + str(sorted(set(imprimirSufixo(romance_limpo, 'ismo'))))\n",
        "ismo_poesia = 'As palavras terminadas em -ismo em Poesia_limpo são: ' + str(sorted(set(imprimirSufixo(poesia_limpo, 'ismo'))))\n",
        "\n",
        "questao5 = [ismo_poesia, ismo_romance]\n",
        "with open('/content/questao5.txt', 'w') as output5: # O 'w' significa que queremos 'write' (escrever) no arquivo, não 'r' ('read', ler).\n",
        "  for x in questao5:\n",
        "    output5.write(x)\n",
        "    output5.write('\\n\\n')\n",
        "\n",
        "# Este tipo de busca pode servir como inicial de pesquisa para saber se há algum\n",
        "# afixo em destaque no corpus analisado. No entanto, não há segurança total que o\n",
        "# que a função irá retornar irá ser o que o linguista pretende analisar. Por exemplo,\n",
        "# em um corpus do inglês, o linguista quer analisar advérbios terminados em '-ly' e\n",
        "# faz esse tipo de busca. Entretanto, a pesquisa pode trazer outras palavras que\n",
        "# terminam em \"-ly\" mas não são advérbios, como o verbo 'apply'\n",
        "\n",
        "\n"
      ],
      "execution_count": null,
      "outputs": []
    }
  ]
}